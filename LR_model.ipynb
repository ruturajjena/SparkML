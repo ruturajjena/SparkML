{
 "cells": [
  {
   "cell_type": "code",
   "execution_count": 1,
   "metadata": {},
   "outputs": [],
   "source": [
    "#import the sparksession\n",
    "from pyspark.sql import SparkSession"
   ]
  },
  {
   "cell_type": "code",
   "execution_count": 2,
   "metadata": {},
   "outputs": [],
   "source": [
    "spark=SparkSession.builder.appName(\"Linear_regression_model\").getOrCreate()"
   ]
  },
  {
   "cell_type": "code",
   "execution_count": 3,
   "metadata": {},
   "outputs": [],
   "source": [
    "#let's import the Linear Regression class from the ML package \n",
    "from pyspark.ml.regression import LinearRegression"
   ]
  },
  {
   "cell_type": "code",
   "execution_count": 4,
   "metadata": {},
   "outputs": [],
   "source": [
    "#getting the dataset \n",
    "df=spark.read.csv('auto_imports.csv',header=True,inferSchema=True)"
   ]
  },
  {
   "cell_type": "code",
   "execution_count": 5,
   "metadata": {},
   "outputs": [
    {
     "name": "stdout",
     "output_type": "stream",
     "text": [
      "root\n",
      " |-- symboling: integer (nullable = true)\n",
      " |-- normalized-losses: string (nullable = true)\n",
      " |-- make: string (nullable = true)\n",
      " |-- fuel-type: string (nullable = true)\n",
      " |-- aspiration: string (nullable = true)\n",
      " |-- num-of-doors: string (nullable = true)\n",
      " |-- body-style: string (nullable = true)\n",
      " |-- drive-wheels: string (nullable = true)\n",
      " |-- engine-location: string (nullable = true)\n",
      " |-- wheel-base: double (nullable = true)\n",
      " |-- length: double (nullable = true)\n",
      " |-- width: double (nullable = true)\n",
      " |-- height: double (nullable = true)\n",
      " |-- curb-weight: integer (nullable = true)\n",
      " |-- engine-type: string (nullable = true)\n",
      " |-- num-of-cylinders: string (nullable = true)\n",
      " |-- engine-size: integer (nullable = true)\n",
      " |-- fuel-system: string (nullable = true)\n",
      " |-- bore: string (nullable = true)\n",
      " |-- stroke: string (nullable = true)\n",
      " |-- compression-ratio: double (nullable = true)\n",
      " |-- horsepower: string (nullable = true)\n",
      " |-- peak-rpm: string (nullable = true)\n",
      " |-- city-mpg: integer (nullable = true)\n",
      " |-- highway-mpg: integer (nullable = true)\n",
      " |-- price: integer (nullable = true)\n",
      "\n"
     ]
    }
   ],
   "source": [
    "df.printSchema()"
   ]
  },
  {
   "cell_type": "code",
   "execution_count": 6,
   "metadata": {},
   "outputs": [
    {
     "data": {
      "text/plain": [
       "['symboling',\n",
       " 'normalized-losses',\n",
       " 'make',\n",
       " 'fuel-type',\n",
       " 'aspiration',\n",
       " 'num-of-doors',\n",
       " 'body-style',\n",
       " 'drive-wheels',\n",
       " 'engine-location',\n",
       " 'wheel-base',\n",
       " 'length',\n",
       " 'width',\n",
       " 'height',\n",
       " 'curb-weight',\n",
       " 'engine-type',\n",
       " 'num-of-cylinders',\n",
       " 'engine-size',\n",
       " 'fuel-system',\n",
       " 'bore',\n",
       " 'stroke',\n",
       " 'compression-ratio',\n",
       " 'horsepower',\n",
       " 'peak-rpm',\n",
       " 'city-mpg',\n",
       " 'highway-mpg',\n",
       " 'price']"
      ]
     },
     "execution_count": 6,
     "metadata": {},
     "output_type": "execute_result"
    }
   ],
   "source": [
    "#lets view some of the specific columns \n",
    "df.columns"
   ]
  },
  {
   "cell_type": "code",
   "execution_count": 7,
   "metadata": {},
   "outputs": [
    {
     "name": "stdout",
     "output_type": "stream",
     "text": [
      "+-----------+---------+-----------+\n",
      "|       make|fuel-type| body-style|\n",
      "+-----------+---------+-----------+\n",
      "|alfa-romero|      gas|convertible|\n",
      "|alfa-romero|      gas|convertible|\n",
      "|alfa-romero|      gas|  hatchback|\n",
      "|       audi|      gas|      sedan|\n",
      "|       audi|      gas|      sedan|\n",
      "|       audi|      gas|      sedan|\n",
      "|       audi|      gas|      sedan|\n",
      "|       audi|      gas|      wagon|\n",
      "|       audi|      gas|      sedan|\n",
      "|        bmw|      gas|      sedan|\n",
      "|        bmw|      gas|      sedan|\n",
      "|        bmw|      gas|      sedan|\n",
      "|        bmw|      gas|      sedan|\n",
      "|        bmw|      gas|      sedan|\n",
      "|        bmw|      gas|      sedan|\n",
      "|        bmw|      gas|      sedan|\n",
      "|        bmw|      gas|      sedan|\n",
      "|  chevrolet|      gas|  hatchback|\n",
      "|  chevrolet|      gas|  hatchback|\n",
      "|  chevrolet|      gas|      sedan|\n",
      "+-----------+---------+-----------+\n",
      "only showing top 20 rows\n",
      "\n"
     ]
    }
   ],
   "source": [
    "df.select(['make','fuel-type','body-style']).show()"
   ]
  },
  {
   "cell_type": "code",
   "execution_count": 8,
   "metadata": {},
   "outputs": [],
   "source": [
    "#Since some of our columns are String type and we need to build the \n",
    "#linear regression model, Let's convert them to numeric using \n",
    "#String Indexer\n"
   ]
  },
  {
   "cell_type": "code",
   "execution_count": 9,
   "metadata": {},
   "outputs": [],
   "source": [
    "from pyspark.ml.feature import StringIndexer"
   ]
  },
  {
   "cell_type": "code",
   "execution_count": 10,
   "metadata": {},
   "outputs": [],
   "source": [
    "indexers=[StringIndexer(inputCol=column,outputCol=column+\"_index\"\n",
    "                       ).fit(df)\n",
    "         for column in list(set(df.columns))]"
   ]
  },
  {
   "cell_type": "code",
   "execution_count": 11,
   "metadata": {},
   "outputs": [],
   "source": [
    "#use the pipeline class to transform the existing dataframe\n",
    "from pyspark.ml import Pipeline"
   ]
  },
  {
   "cell_type": "code",
   "execution_count": 12,
   "metadata": {},
   "outputs": [],
   "source": [
    "pipeline=Pipeline(stages=indexers)\n",
    "df_r=pipeline.fit(df).transform(df)"
   ]
  },
  {
   "cell_type": "code",
   "execution_count": 13,
   "metadata": {},
   "outputs": [
    {
     "data": {
      "text/plain": [
       "['symboling',\n",
       " 'normalized-losses',\n",
       " 'make',\n",
       " 'fuel-type',\n",
       " 'aspiration',\n",
       " 'num-of-doors',\n",
       " 'body-style',\n",
       " 'drive-wheels',\n",
       " 'engine-location',\n",
       " 'wheel-base',\n",
       " 'length',\n",
       " 'width',\n",
       " 'height',\n",
       " 'curb-weight',\n",
       " 'engine-type',\n",
       " 'num-of-cylinders',\n",
       " 'engine-size',\n",
       " 'fuel-system',\n",
       " 'bore',\n",
       " 'stroke',\n",
       " 'compression-ratio',\n",
       " 'horsepower',\n",
       " 'peak-rpm',\n",
       " 'city-mpg',\n",
       " 'highway-mpg',\n",
       " 'price',\n",
       " 'wheel-base_index',\n",
       " 'num-of-doors_index',\n",
       " 'peak-rpm_index',\n",
       " 'city-mpg_index',\n",
       " 'highway-mpg_index',\n",
       " 'bore_index',\n",
       " 'height_index',\n",
       " 'aspiration_index',\n",
       " 'num-of-cylinders_index',\n",
       " 'fuel-type_index',\n",
       " 'price_index',\n",
       " 'engine-type_index',\n",
       " 'width_index',\n",
       " 'curb-weight_index',\n",
       " 'horsepower_index',\n",
       " 'fuel-system_index',\n",
       " 'normalized-losses_index',\n",
       " 'engine-size_index',\n",
       " 'engine-location_index',\n",
       " 'stroke_index',\n",
       " 'symboling_index',\n",
       " 'drive-wheels_index',\n",
       " 'body-style_index',\n",
       " 'length_index',\n",
       " 'make_index',\n",
       " 'compression-ratio_index']"
      ]
     },
     "execution_count": 13,
     "metadata": {},
     "output_type": "execute_result"
    }
   ],
   "source": [
    "df_r.columns"
   ]
  },
  {
   "cell_type": "code",
   "execution_count": 14,
   "metadata": {},
   "outputs": [
    {
     "name": "stdout",
     "output_type": "stream",
     "text": [
      "+-----------+----------+\n",
      "|       make|make_index|\n",
      "+-----------+----------+\n",
      "|alfa-romero|      17.0|\n",
      "|alfa-romero|      17.0|\n",
      "|alfa-romero|      17.0|\n",
      "|       audi|      13.0|\n",
      "|       audi|      13.0|\n",
      "|       audi|      13.0|\n",
      "|       audi|      13.0|\n",
      "|       audi|      13.0|\n",
      "|       audi|      13.0|\n",
      "|        bmw|      11.0|\n",
      "|        bmw|      11.0|\n",
      "|        bmw|      11.0|\n",
      "|        bmw|      11.0|\n",
      "|        bmw|      11.0|\n",
      "|        bmw|      11.0|\n",
      "|        bmw|      11.0|\n",
      "|        bmw|      11.0|\n",
      "|  chevrolet|      16.0|\n",
      "|  chevrolet|      16.0|\n",
      "|  chevrolet|      16.0|\n",
      "+-----------+----------+\n",
      "only showing top 20 rows\n",
      "\n"
     ]
    }
   ],
   "source": [
    "#the _index columns are the transformed columns \n",
    "#Lets view the difference \n",
    "df_r.select(['make','make_index']).show()"
   ]
  },
  {
   "cell_type": "code",
   "execution_count": 15,
   "metadata": {},
   "outputs": [],
   "source": [
    "#Now let's import the vector assembler to create our feature column \n",
    "#to predict the label\n",
    "from pyspark.ml.feature import VectorAssembler"
   ]
  },
  {
   "cell_type": "code",
   "execution_count": 16,
   "metadata": {},
   "outputs": [],
   "source": [
    "#Time to pick some indexed columns to make the feature set \n",
    "assembler=VectorAssembler(inputCols=['peak-rpm_index',\n",
    " 'aspiration_index',\n",
    " 'engine-size_index',\n",
    " 'highway-mpg_index',\n",
    " 'drive-wheels_index',\n",
    " 'num-of-doors_index',\n",
    " 'length_index',\n",
    " 'stroke_index',\n",
    " 'bore_index',\n",
    " 'fuel-type_index',\n",
    " 'make_index',\n",
    " 'curb-weight_index',\n",
    " 'horsepower_index',\n",
    " 'wheel-base_index',\n",
    " 'engine-type_index',\n",
    " 'width_index',\n",
    " 'fuel-system_index',\n",
    " 'height_index',\n",
    " 'num-of-cylinders_index'\n",
    "    ],outputCol='features')"
   ]
  },
  {
   "cell_type": "code",
   "execution_count": 17,
   "metadata": {},
   "outputs": [],
   "source": [
    "output=assembler.transform(df_r)"
   ]
  },
  {
   "cell_type": "code",
   "execution_count": 18,
   "metadata": {},
   "outputs": [
    {
     "name": "stdout",
     "output_type": "stream",
     "text": [
      "+--------------------+\n",
      "|            features|\n",
      "+--------------------+\n",
      "|[2.0,0.0,18.0,13....|\n",
      "|[2.0,0.0,18.0,13....|\n",
      "|[2.0,0.0,12.0,14....|\n",
      "|(19,[0,2,3,6,8,10...|\n",
      "|[1.0,0.0,16.0,12....|\n",
      "|[1.0,0.0,16.0,0.0...|\n",
      "|(19,[0,2,6,8,10,1...|\n",
      "|(19,[0,2,6,8,10,1...|\n",
      "|[1.0,1.0,40.0,24....|\n",
      "|[6.0,0.0,4.0,8.0,...|\n",
      "|[6.0,0.0,4.0,8.0,...|\n",
      "|[15.0,0.0,19.0,7....|\n",
      "|[15.0,0.0,19.0,7....|\n",
      "|[15.0,0.0,19.0,0....|\n",
      "|[4.0,0.0,20.0,12....|\n",
      "|[4.0,0.0,20.0,12....|\n",
      "|[4.0,0.0,20.0,24....|\n",
      "|[13.0,0.0,29.0,29...|\n",
      "|[4.0,0.0,6.0,20.0...|\n",
      "|[4.0,0.0,6.0,20.0...|\n",
      "+--------------------+\n",
      "only showing top 20 rows\n",
      "\n"
     ]
    }
   ],
   "source": [
    "output.select('features').show()"
   ]
  },
  {
   "cell_type": "code",
   "execution_count": 19,
   "metadata": {},
   "outputs": [],
   "source": [
    "#Since our feature column is ready and price is our label column, \n",
    "#lets make the final set \n",
    "final=output.select(['features','price'])"
   ]
  },
  {
   "cell_type": "code",
   "execution_count": 20,
   "metadata": {},
   "outputs": [
    {
     "name": "stdout",
     "output_type": "stream",
     "text": [
      "+--------------------+-----+\n",
      "|            features|price|\n",
      "+--------------------+-----+\n",
      "|[2.0,0.0,18.0,13....|16500|\n",
      "|[2.0,0.0,18.0,13....|16500|\n",
      "|[2.0,0.0,12.0,14....|16500|\n",
      "|(19,[0,2,3,6,8,10...|13950|\n",
      "|[1.0,0.0,16.0,12....|17450|\n",
      "|[1.0,0.0,16.0,0.0...|15250|\n",
      "|(19,[0,2,6,8,10,1...|17710|\n",
      "|(19,[0,2,6,8,10,1...|18920|\n",
      "|[1.0,1.0,40.0,24....|23875|\n",
      "|[6.0,0.0,4.0,8.0,...|16430|\n",
      "|[6.0,0.0,4.0,8.0,...|16925|\n",
      "|[15.0,0.0,19.0,7....|20970|\n",
      "|[15.0,0.0,19.0,7....|21105|\n",
      "|[15.0,0.0,19.0,0....|24565|\n",
      "|[4.0,0.0,20.0,12....|30760|\n",
      "|[4.0,0.0,20.0,12....|41315|\n",
      "|[4.0,0.0,20.0,24....|36880|\n",
      "|[13.0,0.0,29.0,29...| 5151|\n",
      "|[4.0,0.0,6.0,20.0...| 6295|\n",
      "|[4.0,0.0,6.0,20.0...| 6575|\n",
      "+--------------------+-----+\n",
      "only showing top 20 rows\n",
      "\n"
     ]
    }
   ],
   "source": [
    "final.show()"
   ]
  },
  {
   "cell_type": "code",
   "execution_count": 21,
   "metadata": {},
   "outputs": [],
   "source": [
    "#Now let's create the train and the test sets\n",
    "train_set,test_set=final.randomSplit([0.7,0.3])"
   ]
  },
  {
   "cell_type": "code",
   "execution_count": 22,
   "metadata": {},
   "outputs": [
    {
     "name": "stdout",
     "output_type": "stream",
     "text": [
      "+-------+------------------+\n",
      "|summary|             price|\n",
      "+-------+------------------+\n",
      "|  count|               145|\n",
      "|   mean|13346.889655172414|\n",
      "| stddev| 8063.371586926312|\n",
      "|    min|              5118|\n",
      "|    max|             45400|\n",
      "+-------+------------------+\n",
      "\n"
     ]
    }
   ],
   "source": [
    "train_set.describe().show()"
   ]
  },
  {
   "cell_type": "code",
   "execution_count": 24,
   "metadata": {},
   "outputs": [
    {
     "name": "stdout",
     "output_type": "stream",
     "text": [
      "+-------+------------------+\n",
      "|summary|             price|\n",
      "+-------+------------------+\n",
      "|  count|                56|\n",
      "|   mean|12898.910714285714|\n",
      "| stddev| 7712.085175587694|\n",
      "|    min|              5151|\n",
      "|    max|             40960|\n",
      "+-------+------------------+\n",
      "\n"
     ]
    }
   ],
   "source": [
    "test_set.describe().show()"
   ]
  },
  {
   "cell_type": "code",
   "execution_count": 25,
   "metadata": {},
   "outputs": [],
   "source": [
    "#Time to build the model \n",
    "lr=LinearRegression(labelCol='price')\n",
    "lr_model=lr.fit(train_set)"
   ]
  },
  {
   "cell_type": "code",
   "execution_count": 26,
   "metadata": {},
   "outputs": [
    {
     "data": {
      "text/plain": [
       "0.4753957850905234"
      ]
     },
     "execution_count": 26,
     "metadata": {},
     "output_type": "execute_result"
    }
   ],
   "source": [
    "#evaluation\n",
    "test_res=lr_model.evaluate(test_set)\n",
    "test_res.r2"
   ]
  },
  {
   "cell_type": "code",
   "execution_count": 27,
   "metadata": {},
   "outputs": [],
   "source": [
    "#We got only 47% of accuracy.But that's fine since \n",
    "#this is our first attempt\n",
    "#We can add or remove columns and make other transformations to \n",
    "#improve the accuracy \n"
   ]
  },
  {
   "cell_type": "code",
   "execution_count": 28,
   "metadata": {},
   "outputs": [],
   "source": [
    "#Now lets create one more model and test the accuracy \n",
    "assembler1=VectorAssembler(inputCols=['engine-size_index',\n",
    " 'num-of-doors_index',\n",
    " 'length_index',\n",
    " 'stroke_index',\n",
    " 'bore_index',\n",
    " 'drive-wheels_index',\n",
    " 'body-style_index',\n",
    " 'compression-ratio_index',\n",
    " 'make_index',\n",
    " 'curb-weight_index',\n",
    " 'horsepower_index',\n",
    " 'wheel-base_index',\n",
    " 'engine-type_index',\n",
    " 'width_index',\n",
    " 'fuel-system_index',\n",
    " 'height_index',\n",
    " 'num-of-cylinders_index'\n",
    "    ],outputCol='features1')\n",
    "#this time I have removed some of the columns "
   ]
  },
  {
   "cell_type": "code",
   "execution_count": 29,
   "metadata": {},
   "outputs": [],
   "source": [
    "output1=assembler1.transform(df_r)"
   ]
  },
  {
   "cell_type": "code",
   "execution_count": 30,
   "metadata": {},
   "outputs": [],
   "source": [
    "final_data=output1.select('features1','price')"
   ]
  },
  {
   "cell_type": "code",
   "execution_count": 31,
   "metadata": {},
   "outputs": [
    {
     "name": "stdout",
     "output_type": "stream",
     "text": [
      "+--------------------+-----+\n",
      "|           features1|price|\n",
      "+--------------------+-----+\n",
      "|[18.0,1.0,39.0,27...|16500|\n",
      "|[18.0,1.0,39.0,27...|16500|\n",
      "|[12.0,1.0,54.0,18...|16500|\n",
      "|(17,[0,2,4,7,8,9,...|13950|\n",
      "|[16.0,0.0,30.0,0....|17450|\n",
      "|[16.0,1.0,52.0,0....|15250|\n",
      "|[16.0,0.0,20.0,0....|17710|\n",
      "|[16.0,0.0,20.0,0....|18920|\n",
      "|[40.0,0.0,20.0,0....|23875|\n",
      "|[4.0,1.0,10.0,24....|16430|\n",
      "|[4.0,0.0,10.0,24....|16925|\n",
      "|[19.0,1.0,10.0,13...|20970|\n",
      "|[19.0,0.0,10.0,13...|21105|\n",
      "|[19.0,0.0,26.0,13...|24565|\n",
      "|[20.0,0.0,26.0,4....|30760|\n",
      "|[20.0,1.0,57.0,4....|41315|\n",
      "|[20.0,0.0,48.0,4....|36880|\n",
      "|[29.0,1.0,67.0,3....| 5151|\n",
      "|[6.0,1.0,58.0,22....| 6295|\n",
      "|[6.0,0.0,50.0,22....| 6575|\n",
      "+--------------------+-----+\n",
      "only showing top 20 rows\n",
      "\n"
     ]
    }
   ],
   "source": [
    "final_data.show()"
   ]
  },
  {
   "cell_type": "code",
   "execution_count": 32,
   "metadata": {},
   "outputs": [],
   "source": [
    "#creating one more train and testset \n",
    "train_set1,test_set1=final_data.randomSplit([0.7,0.3])"
   ]
  },
  {
   "cell_type": "code",
   "execution_count": 33,
   "metadata": {},
   "outputs": [],
   "source": [
    "lr1=LinearRegression(featuresCol='features1',labelCol='price')"
   ]
  },
  {
   "cell_type": "code",
   "execution_count": 34,
   "metadata": {},
   "outputs": [],
   "source": [
    "lr_model1=lr1.fit(train_set1)"
   ]
  },
  {
   "cell_type": "code",
   "execution_count": 35,
   "metadata": {},
   "outputs": [
    {
     "data": {
      "text/plain": [
       "0.7293865174738596"
      ]
     },
     "execution_count": 35,
     "metadata": {},
     "output_type": "execute_result"
    }
   ],
   "source": [
    "#lets evaluate the new model\n",
    "test_res1=lr_model1.evaluate(test_set1)\n",
    "test_res1.r2"
   ]
  },
  {
   "cell_type": "code",
   "execution_count": 36,
   "metadata": {},
   "outputs": [],
   "source": [
    "#This is a huge improvement. we got 72% this time. \n",
    "#time to predict\n",
    "unlabled=test_set1.select('features1')"
   ]
  },
  {
   "cell_type": "code",
   "execution_count": 37,
   "metadata": {},
   "outputs": [
    {
     "name": "stdout",
     "output_type": "stream",
     "text": [
      "+--------------------+------------------+\n",
      "|           features1|        prediction|\n",
      "+--------------------+------------------+\n",
      "|(17,[0,1,3,4,6,7,...| 6447.604210519698|\n",
      "|(17,[0,1,3,4,6,7,...|11671.732283842859|\n",
      "|(17,[0,2,3,4,7,8,...| 8135.455498816507|\n",
      "|(17,[0,2,3,4,8,9,...|10192.703386790017|\n",
      "|(17,[0,2,3,4,9,10...|  6001.27015953499|\n",
      "|(17,[0,2,3,4,9,10...| 7004.987426870744|\n",
      "|(17,[0,2,3,8,9,10...| 7484.009466438379|\n",
      "|(17,[0,2,4,7,8,9,...| 7909.312229606625|\n",
      "|(17,[0,3,4,6,7,8,...| 8998.932227432557|\n",
      "|(17,[0,3,4,7,8,9,...| 7654.075675295014|\n",
      "|(17,[2,3,4,6,7,9,...| 8485.378770503205|\n",
      "|(17,[2,3,4,7,9,10...| 9959.823122298436|\n",
      "|[0.0,0.0,8.0,4.0,...| 8466.610183768229|\n",
      "|[0.0,0.0,8.0,4.0,...| 9196.893854181684|\n",
      "|[0.0,0.0,13.0,8.0...| 9988.748641588476|\n",
      "|[0.0,1.0,8.0,4.0,...| 7762.038375291028|\n",
      "|[0.0,1.0,8.0,4.0,...| 7762.038375291028|\n",
      "|[0.0,1.0,37.0,8.0...|8177.3301943853985|\n",
      "|[0.0,2.0,8.0,4.0,...| 6508.635460660711|\n",
      "|[1.0,0.0,21.0,3.0...|15314.030403037148|\n",
      "+--------------------+------------------+\n",
      "only showing top 20 rows\n",
      "\n"
     ]
    }
   ],
   "source": [
    "prediction=lr_model1.transform(unlabled)\n",
    "prediction.show()"
   ]
  },
  {
   "cell_type": "code",
   "execution_count": null,
   "metadata": {},
   "outputs": [],
   "source": [
    "#Prediction column contains the predicted price. Thanks :) "
   ]
  }
 ],
 "metadata": {
  "kernelspec": {
   "display_name": "Python 3",
   "language": "python",
   "name": "python3"
  },
  "language_info": {
   "codemirror_mode": {
    "name": "ipython",
    "version": 3
   },
   "file_extension": ".py",
   "mimetype": "text/x-python",
   "name": "python",
   "nbconvert_exporter": "python",
   "pygments_lexer": "ipython3",
   "version": "3.6.12"
  }
 },
 "nbformat": 4,
 "nbformat_minor": 4
}
